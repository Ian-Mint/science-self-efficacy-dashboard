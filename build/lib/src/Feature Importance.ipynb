{
 "cells": [
  {
   "cell_type": "code",
   "execution_count": 181,
   "metadata": {},
   "outputs": [],
   "source": [
    "import numpy as np \n",
    "import pandas as pd\n",
    "from scipy import stats"
   ]
  },
  {
   "cell_type": "code",
   "execution_count": 196,
   "metadata": {
    "scrolled": false
   },
   "outputs": [],
   "source": [
    "school_file='hsls_school_v1_0.csv'\n",
    "sc=pd.read_csv(school_file)  #read file"
   ]
  },
  {
   "cell_type": "code",
   "execution_count": 186,
   "metadata": {},
   "outputs": [
    {
     "data": {
      "text/html": [
       "<div>\n",
       "<style scoped>\n",
       "    .dataframe tbody tr th:only-of-type {\n",
       "        vertical-align: middle;\n",
       "    }\n",
       "\n",
       "    .dataframe tbody tr th {\n",
       "        vertical-align: top;\n",
       "    }\n",
       "\n",
       "    .dataframe thead th {\n",
       "        text-align: right;\n",
       "    }\n",
       "</style>\n",
       "<table border=\"1\" class=\"dataframe\">\n",
       "  <thead>\n",
       "    <tr style=\"text-align: right;\">\n",
       "      <th></th>\n",
       "      <th>X1CONTROL</th>\n",
       "      <th>X1LOCALE</th>\n",
       "      <th>X1REGION</th>\n",
       "    </tr>\n",
       "  </thead>\n",
       "  <tbody>\n",
       "    <tr>\n",
       "      <th>0</th>\n",
       "      <td>1</td>\n",
       "      <td>1</td>\n",
       "      <td>3</td>\n",
       "    </tr>\n",
       "    <tr>\n",
       "      <th>1</th>\n",
       "      <td>1</td>\n",
       "      <td>2</td>\n",
       "      <td>3</td>\n",
       "    </tr>\n",
       "    <tr>\n",
       "      <th>2</th>\n",
       "      <td>1</td>\n",
       "      <td>1</td>\n",
       "      <td>3</td>\n",
       "    </tr>\n",
       "    <tr>\n",
       "      <th>3</th>\n",
       "      <td>2</td>\n",
       "      <td>2</td>\n",
       "      <td>2</td>\n",
       "    </tr>\n",
       "    <tr>\n",
       "      <th>4</th>\n",
       "      <td>1</td>\n",
       "      <td>2</td>\n",
       "      <td>3</td>\n",
       "    </tr>\n",
       "  </tbody>\n",
       "</table>\n",
       "</div>"
      ],
      "text/plain": [
       "  X1CONTROL X1LOCALE X1REGION\n",
       "0         1        1        3\n",
       "1         1        2        3\n",
       "2         1        1        3\n",
       "3         2        2        2\n",
       "4         1        2        3"
      ]
     },
     "execution_count": 186,
     "metadata": {},
     "output_type": "execute_result"
    }
   ],
   "source": [
    "school_varibale = sc[['X1CONTROL','X1LOCALE','X1REGION']]\n",
    "school_varibale = school_varibale.astype({'X1REGION':'category','X1CONTROL':'category','X1LOCALE':'category' })\n",
    "school_varibale.head()"
   ]
  },
  {
   "cell_type": "code",
   "execution_count": 195,
   "metadata": {},
   "outputs": [],
   "source": [
    "student_file='hsls_student_v1_0.csv'\n",
    "st=pd.read_csv(student_file) #read file"
   ]
  },
  {
   "cell_type": "code",
   "execution_count": 239,
   "metadata": {},
   "outputs": [
    {
     "data": {
      "text/html": [
       "<div>\n",
       "<style scoped>\n",
       "    .dataframe tbody tr th:only-of-type {\n",
       "        vertical-align: middle;\n",
       "    }\n",
       "\n",
       "    .dataframe tbody tr th {\n",
       "        vertical-align: top;\n",
       "    }\n",
       "\n",
       "    .dataframe thead th {\n",
       "        text-align: right;\n",
       "    }\n",
       "</style>\n",
       "<table border=\"1\" class=\"dataframe\">\n",
       "  <thead>\n",
       "    <tr style=\"text-align: right;\">\n",
       "      <th></th>\n",
       "      <th>N1SEX</th>\n",
       "      <th>X1TSCERT</th>\n",
       "      <th>N1GROUP</th>\n",
       "      <th>N1INTEREST</th>\n",
       "      <th>N1CONCEPTS</th>\n",
       "      <th>N1TERMS</th>\n",
       "      <th>S1STCHVALUES</th>\n",
       "      <th>S1STCHRESPCT</th>\n",
       "      <th>S1STCHFAIR</th>\n",
       "      <th>S1STCHCONF</th>\n",
       "      <th>S1STCHMISTKE</th>\n",
       "      <th>S1STCHTREAT</th>\n",
       "    </tr>\n",
       "  </thead>\n",
       "  <tbody>\n",
       "    <tr>\n",
       "      <th>0</th>\n",
       "      <td>2</td>\n",
       "      <td>1</td>\n",
       "      <td>1</td>\n",
       "      <td>4</td>\n",
       "      <td>4</td>\n",
       "      <td>4</td>\n",
       "      <td>1</td>\n",
       "      <td>1</td>\n",
       "      <td>1</td>\n",
       "      <td>1</td>\n",
       "      <td>1</td>\n",
       "      <td>3</td>\n",
       "    </tr>\n",
       "    <tr>\n",
       "      <th>1</th>\n",
       "      <td>1</td>\n",
       "      <td>1</td>\n",
       "      <td>1</td>\n",
       "      <td>4</td>\n",
       "      <td>4</td>\n",
       "      <td>4</td>\n",
       "      <td>1</td>\n",
       "      <td>1</td>\n",
       "      <td>1</td>\n",
       "      <td>1</td>\n",
       "      <td>1</td>\n",
       "      <td>4</td>\n",
       "    </tr>\n",
       "    <tr>\n",
       "      <th>2</th>\n",
       "      <td>-8</td>\n",
       "      <td>-8</td>\n",
       "      <td>-8</td>\n",
       "      <td>-8</td>\n",
       "      <td>-8</td>\n",
       "      <td>-8</td>\n",
       "      <td>1</td>\n",
       "      <td>1</td>\n",
       "      <td>1</td>\n",
       "      <td>1</td>\n",
       "      <td>1</td>\n",
       "      <td>4</td>\n",
       "    </tr>\n",
       "    <tr>\n",
       "      <th>3</th>\n",
       "      <td>2</td>\n",
       "      <td>1</td>\n",
       "      <td>-9</td>\n",
       "      <td>-9</td>\n",
       "      <td>-9</td>\n",
       "      <td>-9</td>\n",
       "      <td>2</td>\n",
       "      <td>2</td>\n",
       "      <td>2</td>\n",
       "      <td>2</td>\n",
       "      <td>2</td>\n",
       "      <td>3</td>\n",
       "    </tr>\n",
       "    <tr>\n",
       "      <th>4</th>\n",
       "      <td>2</td>\n",
       "      <td>1</td>\n",
       "      <td>1</td>\n",
       "      <td>3</td>\n",
       "      <td>3</td>\n",
       "      <td>4</td>\n",
       "      <td>4</td>\n",
       "      <td>2</td>\n",
       "      <td>3</td>\n",
       "      <td>2</td>\n",
       "      <td>4</td>\n",
       "      <td>1</td>\n",
       "    </tr>\n",
       "  </tbody>\n",
       "</table>\n",
       "</div>"
      ],
      "text/plain": [
       "  N1SEX X1TSCERT N1GROUP  N1INTEREST  N1CONCEPTS  N1TERMS  S1STCHVALUES  \\\n",
       "0     2        1       1           4           4        4             1   \n",
       "1     1        1       1           4           4        4             1   \n",
       "2    -8       -8      -8          -8          -8       -8             1   \n",
       "3     2        1      -9          -9          -9       -9             2   \n",
       "4     2        1       1           3           3        4             4   \n",
       "\n",
       "   S1STCHRESPCT  S1STCHFAIR  S1STCHCONF  S1STCHMISTKE  S1STCHTREAT  \n",
       "0             1           1           1             1            3  \n",
       "1             1           1           1             1            4  \n",
       "2             1           1           1             1            4  \n",
       "3             2           2           2             2            3  \n",
       "4             2           3           2             4            1  "
      ]
     },
     "execution_count": 239,
     "metadata": {},
     "output_type": "execute_result"
    }
   ],
   "source": [
    "teacher_varibale = st[['N1SEX','X1TSCERT','N1GROUP','N1INTEREST','N1CONCEPTS','N1TERMS','S1STCHVALUES','S1STCHRESPCT','S1STCHFAIR','S1STCHCONF','S1STCHMISTKE','S1STCHTREAT']]\n",
    "teacher_varibale = teacher_varibale.astype({'N1SEX':'category','X1TSCERT':'category','N1GROUP':'category'})\n",
    "teacher_varibale.head()"
   ]
  },
  {
   "cell_type": "code",
   "execution_count": 549,
   "metadata": {
    "scrolled": true
   },
   "outputs": [],
   "source": [
    "student_variable = st[['X1SEX','X1RACE','X1SCIEFF','X1SES','X1SCIID','X1SCIUTI','X1SCIINT','S1TEFRNDS','S1TEACTIV','S1TEPOPULAR','S1TEMAKEFUN']]\n",
    "student_variable = student_variable.astype({'X1SEX':'category','X1RACE':'category'})\n",
    "student_variable.head()"
   ]
  },
  {
   "cell_type": "code",
   "execution_count": 562,
   "metadata": {},
   "outputs": [],
   "source": [
    "def get_feature_importance(x,y):\n",
    "    \"\"\"\n",
    "    - This function describes how important a particular feature(variable our user choose) is to predict y value(outcome our user expect to see)\n",
    "    - parameter: x: two types of variable in our variables list, categorical type(gender or location) and numerical type(scale of something)\n",
    "                 y: a dependent y field(outcome our user expect to see)\n",
    "    - return:  It returns two sets of values:\n",
    "               1.for categorical fields: returns statistical test results\n",
    "               2.for numerical fields: returns pearson correlation coefficient between a field and y\n",
    "    \"\"\"\n",
    "    assert isinstance(x, pd.DataFrame)\n",
    "    assert isinstance(y, pd.DataFrame)\n",
    "    #assert y.dtypes[0] != 'category' # y must be continuous\n",
    "    \n",
    "    # if x is numerical(continuous) field, we return the pearson correlation between a field and y\n",
    "    # for the pearson correlation between a field and y, their size must be the same \n",
    "    if x.dtypes[0] == 'float64' or 'int64':\n",
    "        x = x.iloc[:,0] # to series\n",
    "        y = y.iloc[:,0] # to series\n",
    "        return stats.pearsonr(x, y)[0] # correlation coefficient\n",
    "    else:\n",
    "    # if x is categorical field, we return the statistical test results:\n",
    "    # if x filed has 2 options like sex, we do the T-test(which is included by the ANOVA anlysis)\n",
    "    # if x has more options like number of science courses, we do the ANOVA anlysis\n",
    "        result = pd.concat([x,y],axis=1)\n",
    "        df1 = [x for _, x in result.groupby(result[result.columns[0]])]\n",
    "        data = []\n",
    "        for i in range(1,len(df1)):\n",
    "            data.append(df1[i][df1[i].columns[1]])\n",
    "        return stats.f_oneway(*data)[1]\n",
    "    return 'wrong data input'"
   ]
  },
  {
   "cell_type": "code",
   "execution_count": 565,
   "metadata": {},
   "outputs": [
    {
     "data": {
      "text/plain": [
       "0.562120067348029"
      ]
     },
     "execution_count": 565,
     "metadata": {},
     "output_type": "execute_result"
    }
   ],
   "source": [
    "self_efficieny = student_variable[['X1SCIEFF']]\n",
    "Socioeconomic_status = student_variable[['X1SES']]\n",
    "get_feature_importance(self_efficieny, Socioeconomic_status)# return pearson correlation coefficient"
   ]
  },
  {
   "cell_type": "code",
   "execution_count": 564,
   "metadata": {},
   "outputs": [
    {
     "data": {
      "text/plain": [
       "0.017421643110539238"
      ]
     },
     "execution_count": 564,
     "metadata": {},
     "output_type": "execute_result"
    }
   ],
   "source": [
    "get_feature_importance(x,y) #return p_value 0.017421643110539238 compared to the p_value the following"
   ]
  },
  {
   "cell_type": "code",
   "execution_count": 566,
   "metadata": {},
   "outputs": [
    {
     "data": {
      "text/plain": [
       "0.1662083447567351"
      ]
     },
     "execution_count": 566,
     "metadata": {},
     "output_type": "execute_result"
    }
   ],
   "source": [
    "# use ANOVA test to get p_value\n",
    "y = student_variable[['X1SCIEFF']] # continuous variable of self-efficiency\n",
    "x = student_variable[['X1SEX']]\n",
    "result = pd.concat([x,y],axis=1)\n",
    "df1 = [x for _, x in result.groupby(result[result.columns[0]])]\n",
    "a = []\n",
    "for i in range(1,len(df1)):\n",
    "    a.append(df1[i][df1[i].columns[1]])\n",
    "stats.f_oneway(*a)[1]"
   ]
  },
  {
   "cell_type": "code",
   "execution_count": 567,
   "metadata": {},
   "outputs": [
    {
     "data": {
      "text/plain": [
       "0.1662083447613428"
      ]
     },
     "execution_count": 567,
     "metadata": {},
     "output_type": "execute_result"
    }
   ],
   "source": [
    "# use t-test to get p_value\n",
    "cat1 = student_variable[student_variable['X1SEX']==1.0].X1SCIEFF\n",
    "cat2 = student_variable[student_variable['X1SEX']==2.0].X1SCIEFF \n",
    "p_value = stats.stats.ttest_ind(cat1, cat2)[1]\n",
    "p_value"
   ]
  }
 ],
 "metadata": {
  "kernelspec": {
   "display_name": "Python 3",
   "language": "python",
   "name": "python3"
  },
  "language_info": {
   "codemirror_mode": {
    "name": "ipython",
    "version": 3
   },
   "file_extension": ".py",
   "mimetype": "text/x-python",
   "name": "python",
   "nbconvert_exporter": "python",
   "pygments_lexer": "ipython3",
   "version": "3.7.3"
  }
 },
 "nbformat": 4,
 "nbformat_minor": 2
}
